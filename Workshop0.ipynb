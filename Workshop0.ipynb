{
  "nbformat": 4,
  "nbformat_minor": 0,
  "metadata": {
    "colab": {
      "provenance": [],
      "collapsed_sections": [
        "ESB1trrn_dXm",
        "r-3NfsRaCxbw",
        "So1gEzY8H-vY"
      ]
    },
    "kernelspec": {
      "name": "python3",
      "display_name": "Python 3"
    },
    "language_info": {
      "name": "python"
    }
  },
  "cells": [
    {
      "cell_type": "markdown",
      "source": [
        "# **4.1 Exercise on Functions:**"
      ],
      "metadata": {
        "id": "ESB1trrn_dXm"
      }
    },
    {
      "cell_type": "markdown",
      "source": [
        "Task - 1:\n",
        "\n",
        "Create a Python program that converts between different units of measurement.\n",
        "\n",
        "• The program should:\n",
        "\n",
        "1. Prompt the user to choose the type of conversion (e.g., length, weight, volume).\n",
        "\n",
        "2. Ask the user to input the value to be converted.\n",
        "\n",
        "3. Perform the conversion and display the result.\n",
        "\n",
        "4. Handle potential errors, such as invalid input or unsupported conversion types."
      ],
      "metadata": {
        "id": "7UxHQPxi_jo_"
      }
    },
    {
      "cell_type": "code",
      "execution_count": null,
      "metadata": {
        "colab": {
          "base_uri": "https://localhost:8080/"
        },
        "id": "_WHxR_7L7_T7",
        "outputId": "8f6fc23f-e76a-4896-e7d2-467e6e362a64"
      },
      "outputs": [
        {
          "output_type": "stream",
          "name": "stdout",
          "text": [
            "\n",
            "    Unit Converter: Choose a conversion type\n",
            "    1. Length (m - ft)\n",
            "    2. Weight (kg - lbs)\n",
            "    3. Volume (l - gal)\n",
            "    \n",
            "Enter your choice: 3\n",
            "Enter value to be converted: 45\n",
            "Enter unit (l or gal): l\n",
            "Converted value: 11.89\n"
          ]
        }
      ],
      "source": [
        "def convertLength(value, from_unit):\n",
        "  if from_unit == \"m\":\n",
        "    return value * 3.28084\n",
        "  elif from_unit == \"ft\":\n",
        "    return value / 3.28084\n",
        "  else:\n",
        "    raise ValueError(\"Invalid unit\")\n",
        "\n",
        "def convertVolume(value, from_unit):\n",
        "  if from_unit == \"l\":\n",
        "    return value * 0.264172\n",
        "  elif from_unit == \"gal\":\n",
        "    return value * 0.264172\n",
        "  else:\n",
        "    raise ValueError(\"Invalid unit\")\n",
        "\n",
        "def convertWeight(value, from_unit):\n",
        "  if from_unit == \"kg\":\n",
        "    return value * 2.20462\n",
        "  elif from_unit == \"lbs\":\n",
        "    return value * 2.20462\n",
        "  else:\n",
        "    raise ValueError(\"Invalid unit\")\n",
        "\n",
        "def main():\n",
        "    print(\n",
        "    \"\"\"\n",
        "    Unit Converter: Choose a conversion type\n",
        "    1. Length (m - ft)\n",
        "    2. Weight (kg - lbs)\n",
        "    3. Volume (l - gal)\n",
        "    \"\"\"\n",
        "    )\n",
        "\n",
        "    try:\n",
        "        choice = int(input(\"Enter your choice: \"))\n",
        "        value = float(input(\"Enter value to be converted: \"))\n",
        "\n",
        "        if choice == 1:\n",
        "            unit = input(\"Enter unit (m or ft): \")\n",
        "            convertedValue = convertLength(value, unit)\n",
        "            print(f\"Converted value: {convertedValue:.2f}\")\n",
        "        elif choice == 2:\n",
        "            unit = input(\"Enter unit (kg or lbs): \")\n",
        "            convertedValue = convertWeight(value, unit)\n",
        "            print(f\"Converted value: {convertedValue:.2f}\")\n",
        "        elif choice == 3:\n",
        "            unit = input(\"Enter unit (l or gal): \")\n",
        "            convertedValue = convertVolume(value, unit)\n",
        "            print(f\"Converted value: {convertedValue:.2f}\")\n",
        "        else:\n",
        "            print(\"Invalid choice. Please enter a number between 1 and 3.\")\n",
        "    except ValueError as e:\n",
        "        print(f\"Error: {e}. Please enter valid numeric values and unit types.\")\n",
        "\n",
        "if __name__ == \"__main__\":\n",
        "    main()"
      ]
    },
    {
      "cell_type": "markdown",
      "source": [
        "Task - 2:\n",
        "\n",
        "Create a Python program that performs various mathematical operations on a list of numbers.\n",
        "\n",
        "• The Program should:\n",
        "\n",
        "1. Prompt the user to choose an operation (e.g., find the sum, average, maximum, or minimum of the numbers).\n",
        "\n",
        "2. Ask the user to input a list of numbers (separated by spaces).\n",
        "\n",
        "3. Perform the selected operation and display the result.\n",
        "\n",
        "4. Handle potential errors, such as invalid input or empty lists."
      ],
      "metadata": {
        "id": "C23gLEXj_slD"
      }
    },
    {
      "cell_type": "code",
      "source": [
        "def calculateSum(num):\n",
        "    return sum(num)\n",
        "\n",
        "def calculateAverage(num):\n",
        "    return sum(num) / len(num)\n",
        "\n",
        "def findMaximum(num):\n",
        "    return max(num)\n",
        "\n",
        "def findMinimum(num):\n",
        "    return min(num)\n",
        "\n",
        "def main():\n",
        "    print(\n",
        "    \"\"\"\n",
        "    Mathematical Operations:\n",
        "    1. Sum\n",
        "    2. Average\n",
        "    3. Maximum\n",
        "    4. Minimum\n",
        "    \"\"\"\n",
        "    )\n",
        "\n",
        "    try:\n",
        "        choice = int(input(\"Enter your choice: \"))\n",
        "        num = list(map(float, input(\"Enter a list of numbers separated by spaces: \").split()))\n",
        "\n",
        "        if not num:\n",
        "            raise ValueError(\"The list cannot be empty.\")\n",
        "\n",
        "        if choice == 1:\n",
        "            print(f\"Sum: {calculateSum(num)}\")\n",
        "        elif choice == 2:\n",
        "            print(f\"Average: {calculateSum(num):.2f}\")\n",
        "        elif choice == 3:\n",
        "            print(f\"Maximum: {findMaximum(num)}\")\n",
        "        elif choice == 4:\n",
        "            print(f\"Minimum: {findMinimum(num)}\")\n",
        "        else:\n",
        "            print(\"Invalid choice. Please select a number between 1 and 4.\")\n",
        "    except ValueError as e:\n",
        "        print(f\"Error: {e}. Please enter valid numeric values.\")\n",
        "\n",
        "if __name__ == \"__main__\":\n",
        "    main()\n"
      ],
      "metadata": {
        "colab": {
          "base_uri": "https://localhost:8080/"
        },
        "id": "LmMoK2XrAF6f",
        "outputId": "db73f2df-bba9-48bf-e9b7-02e54050fc55"
      },
      "execution_count": null,
      "outputs": [
        {
          "output_type": "stream",
          "name": "stdout",
          "text": [
            "\n",
            "    Mathematical Operations:\n",
            "    1. Sum\n",
            "    2. Average\n",
            "    3. Maximum\n",
            "    4. Minimum\n",
            "    \n",
            "Enter your choice: 1\n",
            "Enter a list of numbers separated by spaces: 2 3 4 \n",
            "Sum: 9.0\n"
          ]
        }
      ]
    },
    {
      "cell_type": "markdown",
      "source": [
        "# **4.2 Exercise on List Manipulation:**"
      ],
      "metadata": {
        "id": "r-3NfsRaCxbw"
      }
    },
    {
      "cell_type": "markdown",
      "source": [
        "**1. Extract Every Other Element:**\n",
        "\n",
        "Write a Python function that extracts every other element from a list, starting from the first element.\n",
        "\n",
        "• Requirements:\n",
        "- Define a function extract every other(lst) that takes a list lst as input and returns a new list containing every other element from the original list.\n",
        "- Example: For the input [1, 2, 3, 4, 5, 6], the output should be [1, 3, 5]."
      ],
      "metadata": {
        "id": "xvFh4GJxC4ZP"
      }
    },
    {
      "cell_type": "code",
      "source": [
        "def extractEveryOther(lst):\n",
        "    return lst[::2]\n",
        "\n",
        "lists = [1,2,3,4,5,6]\n",
        "print(extractEveryOther(lists))\n"
      ],
      "metadata": {
        "colab": {
          "base_uri": "https://localhost:8080/"
        },
        "id": "KN7snPJ-DDXp",
        "outputId": "12b9116d-1842-4f72-c936-e67494a34eb8"
      },
      "execution_count": null,
      "outputs": [
        {
          "output_type": "stream",
          "name": "stdout",
          "text": [
            "[1, 3, 5]\n"
          ]
        }
      ]
    },
    {
      "cell_type": "markdown",
      "source": [
        "**2. Slice a Sublist:**\n",
        "\n",
        "Write a Python function that returns a sublist from a given list, starting from a specified index and ending at another specified index.\n",
        "\n",
        "• Requirements:\n",
        "\n",
        "- Define a function get sublist(lst, start, end) that takes a list lst, a starting index start, and an ending index end as input and returns the sublist from start to end (inclusive).\n",
        "\n",
        "- Example: For the input [1, 2, 3, 4, 5, 6] with start=2 and end=4, the output should be [3, 4, 5]."
      ],
      "metadata": {
        "id": "ccKYONI4DgYI"
      }
    },
    {
      "cell_type": "code",
      "source": [
        "def getSublist(lst, start, end):\n",
        "  return lst[start:end + 1]\n",
        "\n",
        "lists = [1,2,3,4,5]\n",
        "print(getSublist(lists, 2, 4))"
      ],
      "metadata": {
        "colab": {
          "base_uri": "https://localhost:8080/"
        },
        "id": "Y3k8trWyD-tG",
        "outputId": "0b4a04de-759f-4987-edc1-f23709800452"
      },
      "execution_count": null,
      "outputs": [
        {
          "output_type": "stream",
          "name": "stdout",
          "text": [
            "[3, 4, 5]\n"
          ]
        }
      ]
    },
    {
      "cell_type": "markdown",
      "source": [
        "**3. Reverse a List Using Slicing:**\n",
        "\n",
        "Write a Python function that reverses a list using slicing.\n",
        "\n",
        "• Requirements:\n",
        "\n",
        "- Define a function reverse list(lst) that takes a list lst and returns a reversed list using slicing.\n",
        "\n",
        "- Example: For the input [1, 2, 3, 4, 5], the output should be [5, 4, 3, 2, 1]."
      ],
      "metadata": {
        "id": "kF-YW2iqEU42"
      }
    },
    {
      "cell_type": "code",
      "source": [
        "def reverseList(lst):\n",
        "  return lst[::-1]\n",
        "\n",
        "lists = [1,2,3,4,5]\n",
        "print(reverseList(lists))"
      ],
      "metadata": {
        "colab": {
          "base_uri": "https://localhost:8080/"
        },
        "id": "BZDMHXcqEb9C",
        "outputId": "eff24ef1-50d3-4d1a-80a6-0789dff1443f"
      },
      "execution_count": null,
      "outputs": [
        {
          "output_type": "stream",
          "name": "stdout",
          "text": [
            "[5, 4, 3, 2, 1]\n"
          ]
        }
      ]
    },
    {
      "cell_type": "markdown",
      "source": [
        "**4. Remove the First and Last Elements:**\n",
        "\n",
        "Write a Python function that removes the first and last elements of a list and returns the resulting\n",
        "sublist.\n",
        "\n",
        "• Requirements:\n",
        "- Define a function remove first last(lst) that takes a list lst and returns a sublist without\n",
        "the first and last elements using slicing.\n",
        "\n",
        "- Example: For the input [1, 2, 3, 4, 5], the output should be [2, 3, 4]."
      ],
      "metadata": {
        "id": "hISzyf1wEyJ-"
      }
    },
    {
      "cell_type": "code",
      "source": [
        "def removeFirstLast(lst):\n",
        "  return lst[1:-1]\n",
        "\n",
        "lists = [4,5,6,7,8,9]\n",
        "print(removeFirstLast(lists))"
      ],
      "metadata": {
        "colab": {
          "base_uri": "https://localhost:8080/"
        },
        "id": "Had6HSbmFdss",
        "outputId": "e5c366f0-1056-4f29-ab44-a29951849e66"
      },
      "execution_count": null,
      "outputs": [
        {
          "output_type": "stream",
          "name": "stdout",
          "text": [
            "[5, 6, 7, 8]\n"
          ]
        }
      ]
    },
    {
      "cell_type": "markdown",
      "source": [
        "**5. Get the First n Elements:**\n",
        "\n",
        "Write a Python function that extracts the first n elements from a list.\n",
        "\n",
        "• Requirements:\n",
        "\n",
        "- Define a function get first n(lst, n) that takes a list lst and an integer n as input and\n",
        "returns the first n elements of the list using slicing.\n",
        "\n",
        "- Example: For the input [1, 2, 3, 4, 5] with n=3, the output should be [1, 2, 3]."
      ],
      "metadata": {
        "id": "n-vwABjiF4fG"
      }
    },
    {
      "cell_type": "code",
      "source": [
        "def getFirstN(lst,n):\n",
        "  return lst[:n]\n",
        "\n",
        "lists = [4,5,6,7,8]\n",
        "print(getFirstN(lists,3))"
      ],
      "metadata": {
        "colab": {
          "base_uri": "https://localhost:8080/"
        },
        "id": "yBiLWC2_F9vS",
        "outputId": "76b7b8c5-942f-4030-c034-5159f9868dee"
      },
      "execution_count": null,
      "outputs": [
        {
          "output_type": "stream",
          "name": "stdout",
          "text": [
            "[4, 5, 6]\n"
          ]
        }
      ]
    },
    {
      "cell_type": "markdown",
      "source": [
        "**6. Extract Elements from the End:**\n",
        "\n",
        "Write a Python function that extracts the last n elements of a list using slicing.\n",
        "\n",
        "• Requirements:\n",
        "\n",
        "- Define a function get last n(lst, n) that takes a list lst and an integer n as input and returns the last n elements of the list.\n",
        "\n",
        "- Example: For the input [1, 2, 3, 4, 5] with n=2, the output should be [4, 5]."
      ],
      "metadata": {
        "id": "yQqN8d9AGfhk"
      }
    },
    {
      "cell_type": "code",
      "source": [
        "def getLastN(lst, n):\n",
        "  return lst[-n:]\n",
        "\n",
        "lists = [1,2,3,4,5]\n",
        "print(getLastN(lists, 2))"
      ],
      "metadata": {
        "colab": {
          "base_uri": "https://localhost:8080/"
        },
        "id": "oyaR5k8LGnVZ",
        "outputId": "693440b0-4360-4e62-c820-c0677db87a6a"
      },
      "execution_count": null,
      "outputs": [
        {
          "output_type": "stream",
          "name": "stdout",
          "text": [
            "[4, 5]\n"
          ]
        }
      ]
    },
    {
      "cell_type": "markdown",
      "source": [
        "**7. Extract Elements in Reverse Order:**\n",
        "\n",
        "Write a Python function that extracts a list of elements in reverse order starting from the second-to-last\n",
        "element and skipping one element in between.\n",
        "\n",
        "• Requirements:\n",
        "\n",
        "- Define a function reverse skip(lst) that takes a list lst and returns a new list containing every second element starting from the second-to-last, moving backward.\n",
        "\n",
        " Example: For the input [1, 2, 3, 4, 5, 6], the output should be [5, 3, 1]."
      ],
      "metadata": {
        "id": "M4GHBKn_HICS"
      }
    },
    {
      "cell_type": "code",
      "source": [
        "def reverseSkip(lst):\n",
        "  return lst[-2::-2]\n",
        "\n",
        "li = [2,3,4,5,6,7]\n",
        "print(reverseSkip(li))"
      ],
      "metadata": {
        "colab": {
          "base_uri": "https://localhost:8080/"
        },
        "id": "K7NLCYpcHOK8",
        "outputId": "64098c17-54ee-42bc-a105-021eeafe02ef"
      },
      "execution_count": null,
      "outputs": [
        {
          "output_type": "stream",
          "name": "stdout",
          "text": [
            "[6, 4, 2]\n"
          ]
        }
      ]
    },
    {
      "cell_type": "markdown",
      "source": [
        "# **4.3 Exercise on Nested List:**"
      ],
      "metadata": {
        "id": "So1gEzY8H-vY"
      }
    },
    {
      "cell_type": "markdown",
      "source": [
        "**1. Flatten a Nested List:**\n",
        "\n",
        "Write a Python function that takes a nested list and flattens it into a single list, where all the elements\n",
        "are in a single dimension.\n",
        "\n",
        "• Requirements:\n",
        "\n",
        "- Define a function flatten(lst) that takes a nested list lst and returns a flattened version of the list.\n",
        "\n",
        "- Example: For the input [[1, 2], [3, 4], [5]], the output should be [1, 2, 3, 4, 5]."
      ],
      "metadata": {
        "id": "BxvINDsoIc0_"
      }
    },
    {
      "cell_type": "code",
      "source": [
        "def flatten(lst):\n",
        "  result = []\n",
        "  for sublist in lst:\n",
        "    try:\n",
        "      result.extend(flatten(sublist))\n",
        "    except TypeError:\n",
        "      result.append(sublist)\n",
        "  return result\n",
        "\n",
        "li = [[1,2],[3,4],[5,6]]\n",
        "flatten = flatten(li)\n",
        "print(flatten)"
      ],
      "metadata": {
        "colab": {
          "base_uri": "https://localhost:8080/"
        },
        "id": "FmT9339HIk6A",
        "outputId": "b1e79d40-6f5d-4a1a-929e-0fd6b77387e4"
      },
      "execution_count": null,
      "outputs": [
        {
          "output_type": "stream",
          "name": "stdout",
          "text": [
            "[1, 2, 3, 4, 5, 6]\n"
          ]
        }
      ]
    },
    {
      "cell_type": "markdown",
      "source": [
        "**2. Accessing Nested List Elements:**\n",
        "\n",
        "Write a Python function that extracts a specific element from a nested list given its indices.\n",
        "\n",
        "• Requirements:\n",
        "\n",
        "- Define a function access nested element(lst, indices) that takes a nested list lst and a list of indices indices, and returns the element at that position.\n",
        "\n",
        "- Example: For the input lst = [[1, 2, 3], [4, 5, 6], [7, 8, 9]] with indices = [1, 2], the output should be 6."
      ],
      "metadata": {
        "id": "dsRbrnLPKlNG"
      }
    },
    {
      "cell_type": "code",
      "source": [
        "def accessNestedElement(lst, indices):\n",
        "  for index in indices:\n",
        "    lst = lst[index]\n",
        "  return lst\n",
        "\n",
        "lst = [[1,2,3],[4,5,6],[7,8,9]]\n",
        "indices = [1,2]\n",
        "elements = accessNestedElement(lst,indices)\n",
        "print(elements)"
      ],
      "metadata": {
        "colab": {
          "base_uri": "https://localhost:8080/"
        },
        "id": "k9FcEO7WKxTi",
        "outputId": "3a59f783-c421-4621-9eb7-07503acbefa4"
      },
      "execution_count": null,
      "outputs": [
        {
          "output_type": "stream",
          "name": "stdout",
          "text": [
            "6\n"
          ]
        }
      ]
    },
    {
      "cell_type": "markdown",
      "source": [
        "**3. Sum of All Elements in a Nested List:**\n",
        "\n",
        "Write a Python function that calculates the sum of all the numbers in a nested list (regardless of depth).\n",
        "\n",
        "• Requirements:\n",
        "\n",
        "- Define a function sum nested(lst) that takes a nested list lst and returns the sum of all the elements.\n",
        "\n",
        "- Example: For the input [[1, 2], [3,[4, 5]], 6], the output should be 21."
      ],
      "metadata": {
        "id": "xqDtUp92LXt-"
      }
    },
    {
      "cell_type": "code",
      "source": [
        "def sumNested(lst):\n",
        "  total = 0\n",
        "  for item in lst:\n",
        "    if isinstance(item,list):\n",
        "      total+=sumNested(item)\n",
        "    else:\n",
        "       total+=item\n",
        "  return total\n",
        "\n",
        "lst= [[1,2],[3,[4,5]],6]\n",
        "total = sumNested(lst)\n",
        "print(total)"
      ],
      "metadata": {
        "colab": {
          "base_uri": "https://localhost:8080/"
        },
        "id": "LblafN9ELiAM",
        "outputId": "8d8f344b-7e70-45a5-f4be-e3273ce3527c"
      },
      "execution_count": null,
      "outputs": [
        {
          "output_type": "stream",
          "name": "stdout",
          "text": [
            "21\n"
          ]
        }
      ]
    },
    {
      "cell_type": "markdown",
      "source": [
        "**4. Remove Specific Element from a Nested List:**\n",
        "\n",
        "Write a Python function that removes all occurrences of a specific element from a nested list.\n",
        "\n",
        "• Requirements:\n",
        "\n",
        "- Define a function remove element(lst, elem) that removes elem from lst and returns the modified list.\n",
        "\n",
        "- Example: For the input lst = [[1, 2], [3, 2], [4, 5]] and elem = 2, the output should be [[1], [3], [4, 5]]."
      ],
      "metadata": {
        "id": "0q0HzxD6MKFF"
      }
    },
    {
      "cell_type": "code",
      "source": [
        "def removeElement(lst,elem):\n",
        "  for i in range(len(lst)):\n",
        "      lst[i] = [x for x in lst[i] if x != elem]\n",
        "\n",
        "  return [sublist for sublist in lst if sublist]\n",
        "\n",
        "lst =[[1,2],[3,2],[4,5]]\n",
        "elem=2\n",
        "modifiedLst = removeElement(lst,elem)\n",
        "print(modifiedLst)"
      ],
      "metadata": {
        "colab": {
          "base_uri": "https://localhost:8080/"
        },
        "id": "s7Po8nu3NeSs",
        "outputId": "2c424dc4-7636-4cd1-a9cb-02f5617406ee"
      },
      "execution_count": null,
      "outputs": [
        {
          "output_type": "stream",
          "name": "stdout",
          "text": [
            "[[1], [3], [4, 5]]\n"
          ]
        }
      ]
    },
    {
      "cell_type": "markdown",
      "source": [
        "**5. Find the Maximum Element in a Nested List:**\n",
        "\n",
        "Write a Python function that finds the maximum element in a nested list (regardless of depth).\n",
        "\n",
        "• Requirements:\n",
        "\n",
        "- Define a function find max(lst) that takes a nested list lst and returns the maximum element.\n",
        "\n",
        "- Example: For the input [[1, 2], [3, [4, 5]], 6], the output should be 6."
      ],
      "metadata": {
        "id": "hxaxavTJMQX0"
      }
    },
    {
      "cell_type": "code",
      "source": [
        "def findMax(lst):\n",
        "  max_value = float('-inf')\n",
        "  for item in lst:\n",
        "    if isinstance(item, list):\n",
        "      max_value = max(max_value, findMax(item))\n",
        "    else:\n",
        "      max_value = max(max_value, item)\n",
        "  return max_value\n",
        "\n",
        "lists = [[4,5],[6,[7,8]],9]\n",
        "max_value = findMax(lists)\n",
        "print(max_value)"
      ],
      "metadata": {
        "colab": {
          "base_uri": "https://localhost:8080/"
        },
        "id": "DGyUsydMPIy8",
        "outputId": "af9914b6-e6aa-42a5-9758-755d7cbb06da"
      },
      "execution_count": null,
      "outputs": [
        {
          "output_type": "stream",
          "name": "stdout",
          "text": [
            "9\n"
          ]
        }
      ]
    },
    {
      "cell_type": "markdown",
      "source": [
        "**6. Count Occurrences of an Element in a Nested List:**\n",
        "\n",
        "Write a Python function that counts how many times a specific element appears in a nested list.\n",
        "\n",
        "• Requirements:\n",
        "\n",
        "- Define a function count occurrences(lst, elem) that counts the occurrences of elem in the nested list lst.\n",
        "\n",
        "- Example: For the input lst = [[1, 2], [2, 3], [2, 4]] and elem = 2, the output should be 3."
      ],
      "metadata": {
        "id": "9vhoE_uMMYZr"
      }
    },
    {
      "cell_type": "code",
      "source": [
        "def countOccurrences(lst, elem):\n",
        "  count = 0\n",
        "  for item in lst:\n",
        "    if isinstance(item, list):\n",
        "      count += countOccurrences(item, elem)\n",
        "    elif item == elem:\n",
        "      count += 1\n",
        "  return count\n",
        "\n",
        "lst=[[1,2],[2,3],[3,4],[4,3]]\n",
        "occurrence = countOccurrences(lst,3)\n",
        "print(occurrence)"
      ],
      "metadata": {
        "colab": {
          "base_uri": "https://localhost:8080/"
        },
        "id": "qDSsbNX2PscX",
        "outputId": "07bd1331-4584-47db-9eb8-c7b8d9010bf1"
      },
      "execution_count": null,
      "outputs": [
        {
          "output_type": "stream",
          "name": "stdout",
          "text": [
            "3\n"
          ]
        }
      ]
    },
    {
      "cell_type": "markdown",
      "source": [
        "**7. Flatten a List of Lists of Lists:**\n",
        "\n",
        "Write a Python function that flattens a list of lists of lists into a single list, regardless of the depth.\n",
        "\n",
        "• Requirements:\n",
        "\n",
        "- Define a function deep flatten(lst) that takes a deeply nested list lst and returns a single flattened list.\n",
        "\n",
        "- Example: For the input [[[1, 2], [3, 4]], [[5, 6], [7, 8]]], the output should be [1, 2, 3, 4, 5, 6, 7, 8]."
      ],
      "metadata": {
        "id": "q_OTlobUMl3y"
      }
    },
    {
      "cell_type": "code",
      "source": [
        "def deepFlatten(lst):\n",
        "  result = []\n",
        "  for item in lst:\n",
        "    if isinstance(item, list):\n",
        "      result.extend(deepFlatten(item))\n",
        "    else:\n",
        "      result.append(item)\n",
        "  return result\n",
        "\n",
        "lst=[[[1,2],[3,4]],[[5,6],[7,8]]]\n",
        "flatten = deepFlatten(lst)\n",
        "print(flatten)"
      ],
      "metadata": {
        "colab": {
          "base_uri": "https://localhost:8080/"
        },
        "id": "3957UWn3QSaY",
        "outputId": "169728a7-6b19-4e02-920f-86873849657e"
      },
      "execution_count": null,
      "outputs": [
        {
          "output_type": "stream",
          "name": "stdout",
          "text": [
            "[1, 2, 3, 4, 5, 6, 7, 8]\n"
          ]
        }
      ]
    },
    {
      "cell_type": "markdown",
      "source": [
        "**8. Nested List Average:**\n",
        "\n",
        "Write a Python function that calculates the average of all elements in a nested list.\n",
        "\n",
        "• Requirements:\n",
        "\n",
        "- Define a function average nested(lst) that takes a nested list lst and returns the average of all the elements.\n",
        "\n",
        "- Example: For the input [[1, 2], [3, 4], [5, 6]], the output should be 3.5."
      ],
      "metadata": {
        "id": "8TY3G5qxMvI9"
      }
    },
    {
      "cell_type": "code",
      "source": [
        "def averagNested(lst):\n",
        "  def sum(lst):\n",
        "    total=0\n",
        "    count=0\n",
        "    for item in lst:\n",
        "      if isinstance(item,list):\n",
        "        sumTotal, subCount = sum(item)\n",
        "        total+=sumTotal\n",
        "        count+=subCount\n",
        "      else:\n",
        "        total+=item\n",
        "        count+=1\n",
        "\n",
        "    return total,count\n",
        "\n",
        "  total, count = sum(lst)\n",
        "  return total/count if count != 0 else 0\n",
        "\n",
        "lst= [[1, 2], [3, 4], [5, 6]]\n",
        "ave = averagNested(lst)\n",
        "print(ave)"
      ],
      "metadata": {
        "colab": {
          "base_uri": "https://localhost:8080/"
        },
        "id": "fI5fkqBrQknv",
        "outputId": "a4fdf662-cdd8-4024-ffba-0766ee71b666"
      },
      "execution_count": null,
      "outputs": [
        {
          "output_type": "stream",
          "name": "stdout",
          "text": [
            "3.5\n"
          ]
        }
      ]
    },
    {
      "cell_type": "markdown",
      "source": [
        "# **10.1. Basic Vector and Matrix Operation with Numpy.**"
      ],
      "metadata": {
        "id": "ZRF9sRmDUyh5"
      }
    },
    {
      "cell_type": "markdown",
      "source": [
        "**Problem - 1: Array Creation:**\n",
        "\n",
        "Complete the following Tasks:\n",
        "\n",
        "1. Initialize an empty array with size 2X2.\n",
        "2. Initialize an all one array with size 4X2.\n",
        "3. Return a new array of given shape and type, filled with fill value.{Hint: np.full}\n",
        "4. Return a new array of zeros with same shape and type as a given array.{Hint: np.zeros like}\n",
        "5. Return a new array of ones with same shape and type as a given array.{Hint: np.ones like}\n",
        "6. For an existing list new_list = [1,2,3,4] convert to an numpy array.{Hint: np.array()}"
      ],
      "metadata": {
        "id": "STTqt0toU-e9"
      }
    },
    {
      "cell_type": "code",
      "source": [
        "import numpy as np\n",
        "\n",
        "empty_array= np.empty((2,2))\n",
        "print(\"Empty Array (2x2):\\n\",empty_array)\n",
        "\n",
        "ones_array= np.ones((4,2))\n",
        "print(\"\\n\")\n",
        "print(\"Ones Array (4x2):\\n\",ones_array)\n",
        "\n",
        "newArray = np.full((3,3),5)\n",
        "print(\"\\n\")\n",
        "print(\"Filled Array (with 5):\\n\",newArray)\n",
        "\n",
        "array= np.array([[2,2],[4,2]])\n",
        "zerosArray = np.zeros_like(array)\n",
        "print(\"\\n\")\n",
        "print(\"Zeros Array:\\n\",zerosArray)\n",
        "\n",
        "onesArray = np.ones_like(array)\n",
        "print(\"\\n\")\n",
        "print(\"Ones Array:\\n\",onesArray)\n",
        "\n",
        "new_list = [1,2,3,4]\n",
        "numpyArray = np.array(new_list)\n",
        "print(\"\\n\")\n",
        "print(\"Numpy Array:\\n\",numpyArray)"
      ],
      "metadata": {
        "colab": {
          "base_uri": "https://localhost:8080/"
        },
        "id": "l3LqT_SnVmqB",
        "outputId": "8ebbc1b5-0ad9-40c0-af2b-7f829085f400"
      },
      "execution_count": 3,
      "outputs": [
        {
          "output_type": "stream",
          "name": "stdout",
          "text": [
            "Empty Array (2x2):\n",
            " [[3.09983634e-316 0.00000000e+000]\n",
            " [6.65840300e-310 6.65840343e-310]]\n",
            "\n",
            "\n",
            "Ones Array (4x2):\n",
            " [[1. 1.]\n",
            " [1. 1.]\n",
            " [1. 1.]\n",
            " [1. 1.]]\n",
            "\n",
            "\n",
            "Filled Array (with 5):\n",
            " [[5 5 5]\n",
            " [5 5 5]\n",
            " [5 5 5]]\n",
            "\n",
            "\n",
            "Zeros Array:\n",
            " [[0 0]\n",
            " [0 0]]\n",
            "\n",
            "\n",
            "Ones Array:\n",
            " [[1 1]\n",
            " [1 1]]\n",
            "\n",
            "\n",
            "Numpy Array:\n",
            " [1 2 3 4]\n"
          ]
        }
      ]
    },
    {
      "cell_type": "markdown",
      "source": [
        "**Problem - 2: Array Manipulation: Numerical Ranges and Array indexing:**\n",
        "\n",
        "Complete the following tasks:\n",
        "\n",
        "1. Create an array with values ranging from 10 to 49. {Hint:np.arrange()}.\n",
        "2. Create a 3X3 matrix with values ranging from 0 to 8.\n",
        "{Hint:look for np.reshape()}\n",
        "3. Create a 3X3 identity matrix.{Hint:np.eye()}\n",
        "4. Create a random array of size 30 and find the mean of the array.\n",
        "{Hint:check for np.random.random() and array.mean() function}\n",
        "5. Create a 10X10 array with random values and find the minimum and maximum values.\n",
        "6. Create a zero array of size 10 and replace 5th element with 1.\n",
        "7. Reverse an array arr = [1,2,0,0,4,0].\n",
        "8. Create a 2d array with 1 on border and 0 inside.\n",
        "9. Create a 8X8 matrix and fill it with a checkerboard pattern."
      ],
      "metadata": {
        "id": "_G7ZZ88_aOXQ"
      }
    },
    {
      "cell_type": "code",
      "source": [
        "array_10_to_49 = np.arange(10, 50)\n",
        "print(\"Array from 10 to 49:\\n\", array_10_to_49)\n",
        "\n",
        "matrix_3x3 = np.arange(9).reshape(3, 3)\n",
        "print(\"\\n3x3 Matrix (0 to 8):\\n\", matrix_3x3)\n",
        "\n",
        "identity_matrix = np.eye(3)\n",
        "print(\"\\n3x3 Identity Matrix:\\n\", identity_matrix)\n",
        "\n",
        "random_array_30 = np.random.random(30)\n",
        "mean_value = random_array_30.mean()\n",
        "print(\"\\nMean of Random Array (size 30):\", mean_value)\n",
        "\n",
        "random_matrix_10x10 = np.random.random((10, 10))\n",
        "min_value = random_matrix_10x10.min()\n",
        "max_value = random_matrix_10x10.max()\n",
        "print(\"\\n10x10 Random Matrix - Min:\", min_value, \"Max:\", max_value)\n",
        "\n",
        "zero_array = np.zeros(10)\n",
        "zero_array[4] = 1\n",
        "print(\"\\nZero Array with 5th Element as 1:\\n\", zero_array)\n",
        "\n",
        "arr = np.array([1, 2, 0, 0, 4, 0])\n",
        "reversed_arr = arr[::-1]\n",
        "print(\"\\nReversed Array:\\n\", reversed_arr)\n",
        "\n",
        "border_array = np.ones((5, 5))\n",
        "border_array[1:-1, 1:-1] = 0\n",
        "print(\"\\n2D Array with 1 on Border and 0 Inside:\\n\", border_array)\n",
        "\n",
        "checkerboard = np.zeros((8, 8), dtype=int)\n",
        "checkerboard[1::2, ::2] = 1\n",
        "checkerboard[::2, 1::2] = 1\n",
        "print(\"\\n8x8 Checkerboard Pattern:\\n\", checkerboard)\n"
      ],
      "metadata": {
        "id": "SBQG0MrWaRqH",
        "colab": {
          "base_uri": "https://localhost:8080/"
        },
        "outputId": "dc7e88f3-25c3-429c-fb2f-782852b97783"
      },
      "execution_count": 6,
      "outputs": [
        {
          "output_type": "stream",
          "name": "stdout",
          "text": [
            "Array from 10 to 49:\n",
            " [10 11 12 13 14 15 16 17 18 19 20 21 22 23 24 25 26 27 28 29 30 31 32 33\n",
            " 34 35 36 37 38 39 40 41 42 43 44 45 46 47 48 49]\n",
            "\n",
            "3x3 Matrix (0 to 8):\n",
            " [[0 1 2]\n",
            " [3 4 5]\n",
            " [6 7 8]]\n",
            "\n",
            "3x3 Identity Matrix:\n",
            " [[1. 0. 0.]\n",
            " [0. 1. 0.]\n",
            " [0. 0. 1.]]\n",
            "\n",
            "Mean of Random Array (size 30): 0.45948296800470995\n",
            "\n",
            "10x10 Random Matrix - Min: 0.0017871312013630902 Max: 0.9927689923653433\n",
            "\n",
            "Zero Array with 5th Element as 1:\n",
            " [0. 0. 0. 0. 1. 0. 0. 0. 0. 0.]\n",
            "\n",
            "Reversed Array:\n",
            " [0 4 0 0 2 1]\n",
            "\n",
            "2D Array with 1 on Border and 0 Inside:\n",
            " [[1. 1. 1. 1. 1.]\n",
            " [1. 0. 0. 0. 1.]\n",
            " [1. 0. 0. 0. 1.]\n",
            " [1. 0. 0. 0. 1.]\n",
            " [1. 1. 1. 1. 1.]]\n",
            "\n",
            "8x8 Checkerboard Pattern:\n",
            " [[0 1 0 1 0 1 0 1]\n",
            " [1 0 1 0 1 0 1 0]\n",
            " [0 1 0 1 0 1 0 1]\n",
            " [1 0 1 0 1 0 1 0]\n",
            " [0 1 0 1 0 1 0 1]\n",
            " [1 0 1 0 1 0 1 0]\n",
            " [0 1 0 1 0 1 0 1]\n",
            " [1 0 1 0 1 0 1 0]]\n"
          ]
        }
      ]
    },
    {
      "cell_type": "markdown",
      "source": [
        "**Problem - 3: Array Operations:**\n",
        "\n",
        "For the following arrays:\n",
        "\n",
        "x = np.array([[1,2],[3,5]]) and y = np.array([[5,6],[7,8]]);\n",
        "v = np.array([9,10]) and w = np.array([11,12]);\n",
        "Complete all the task using numpy:\n",
        "1. Add the two array.\n",
        "2. Subtract the two array.\n",
        "3. Multiply the array with any integers of your choice.\n",
        "4. Find the square of each element of the array.\n",
        "5. Find the dot product between: v(and)w ; x(and)v ; x(and)y.\n",
        "6. Concatenate x(and)y along row and Concatenate v(and)w along column.\n",
        "{Hint:try np.concatenate() or np.vstack() functions.\n",
        "7. Concatenate x(and)v; if you get an error, observe and explain why did you get the error?"
      ],
      "metadata": {
        "id": "_90T6dXBPgv-"
      }
    },
    {
      "cell_type": "code",
      "source": [
        "# Define the given arrays\n",
        "x = np.array([[1, 2], [3, 5]])\n",
        "y = np.array([[5, 6], [7, 8]])\n",
        "v = np.array([9, 10])\n",
        "w = np.array([11, 12])\n",
        "\n",
        "add_xy = x + y\n",
        "print(\"Addition of x and y:\\n\", add_xy)\n",
        "\n",
        "subtract_xy = x - y\n",
        "print(\"\\nSubtraction of x and y:\\n\", subtract_xy)\n",
        "\n",
        "multiply_x = x * 2\n",
        "print(\"\\nMultiplication of x with 2:\\n\", multiply_x)\n",
        "\n",
        "square_x = np.square(x)\n",
        "print(\"\\nSquare of each element in x:\\n\", square_x)\n",
        "\n",
        "dot_vw = np.dot(v, w)\n",
        "dot_xv = np.dot(x, v)\n",
        "dot_xy = np.dot(x, y)\n",
        "\n",
        "print(\"\\nDot Product of v and w:\", dot_vw)\n",
        "print(\"Dot Product of x and v:\\n\", dot_xv)\n",
        "print(\"Dot Product of x and y:\\n\", dot_xy)\n",
        "\n",
        "concat_xy_row = np.concatenate((x, y), axis=0)\n",
        "concat_vw_col = np.vstack((v, w))\n",
        "\n",
        "print(\"\\nConcatenation of x and y along rows:\\n\", concat_xy_row)\n",
        "print(\"\\nConcatenation of v and w along columns:\\n\", concat_vw_col)\n",
        "\n",
        "try:\n",
        "    concat_xv = np.concatenate((x, v), axis=0)\n",
        "except ValueError as e:\n",
        "    print(\"\\nError while concatenating x and v:\", e)\n"
      ],
      "metadata": {
        "colab": {
          "base_uri": "https://localhost:8080/"
        },
        "id": "NRkxP0_2QHVi",
        "outputId": "c4b7f11a-d09e-4777-c54a-b03458d14781"
      },
      "execution_count": 7,
      "outputs": [
        {
          "output_type": "stream",
          "name": "stdout",
          "text": [
            "Addition of x and y:\n",
            " [[ 6  8]\n",
            " [10 13]]\n",
            "\n",
            "Subtraction of x and y:\n",
            " [[-4 -4]\n",
            " [-4 -3]]\n",
            "\n",
            "Multiplication of x with 2:\n",
            " [[ 2  4]\n",
            " [ 6 10]]\n",
            "\n",
            "Square of each element in x:\n",
            " [[ 1  4]\n",
            " [ 9 25]]\n",
            "\n",
            "Dot Product of v and w: 219\n",
            "Dot Product of x and v:\n",
            " [29 77]\n",
            "Dot Product of x and y:\n",
            " [[19 22]\n",
            " [50 58]]\n",
            "\n",
            "Concatenation of x and y along rows:\n",
            " [[1 2]\n",
            " [3 5]\n",
            " [5 6]\n",
            " [7 8]]\n",
            "\n",
            "Concatenation of v and w along columns:\n",
            " [[ 9 10]\n",
            " [11 12]]\n",
            "\n",
            "Error while concatenating x and v: all the input arrays must have same number of dimensions, but the array at index 0 has 2 dimension(s) and the array at index 1 has 1 dimension(s)\n"
          ]
        }
      ]
    },
    {
      "cell_type": "markdown",
      "source": [
        "**Problem - 4: Matrix Operations:**\n",
        "\n",
        "• For the following arrays:\n",
        "A = np.array([[3,4],[7,8]]) and B = np.array([[5,3],[2,1]]);\n",
        "Prove following with Numpy:\n",
        "1. Prove A.A−1 = I.\n",
        "2. Prove AB ̸= BA.\n",
        "3. Prove (AB)\n",
        "\n",
        "T = BTAT\n",
        ".\n",
        "\n",
        "• Solve the following system of Linear equation using Inverse Methods.\n",
        "\n",
        "2x − 3y + z = −1\n",
        "x − y + 2z = −3\n",
        "3x + y − z = 9\n",
        "\n",
        "{Hint: First use Numpy array to represent the equation in Matrix form. Then Solve for: AX = B}\n",
        "\n",
        "• Now: solve the above equation using np.linalg.inv function.{Explore more about ”linalg” func-\n",
        "tion of Numpy}"
      ],
      "metadata": {
        "id": "epemycjoPjv1"
      }
    },
    {
      "cell_type": "code",
      "source": [
        "import numpy as np\n",
        "\n",
        "# Given matrices\n",
        "A = np.array([[3, 4], [7, 8]])\n",
        "B = np.array([[5, 3], [2, 1]])\n",
        "\n",
        "# Prove A * A^-1 = I\n",
        "A_inv = np.linalg.inv(A)\n",
        "identity_matrix = np.dot(A, A_inv)\n",
        "print(\"A * A^-1:\")\n",
        "print(identity_matrix)\n",
        "\n",
        "# Prove AB ≠ BA\n",
        "AB = np.dot(A, B)\n",
        "BA = np.dot(B, A)\n",
        "print(\"AB:\")\n",
        "print(AB)\n",
        "print(\"BA:\")\n",
        "print(BA)\n",
        "print(\"Is AB ≠ BA?\", not np.array_equal(AB, BA))\n",
        "\n",
        "# Prove (AB)^T = B^T * A^T\n",
        "AB_T = np.transpose(AB)\n",
        "BT_AT = np.dot(np.transpose(B), np.transpose(A))\n",
        "print(\"(AB)^T:\")\n",
        "print(AB_T)\n",
        "print(\"B^T * A^T:\")\n",
        "print(BT_AT)\n",
        "print(\"Does (AB)^T = B^T * A^T?\", np.array_equal(AB_T, BT_AT))\n",
        "\n",
        "# Solve the system of linear equations using Inverse Method\n",
        "A_eq = np.array([[2, -3, 1], [1, -1, 2], [3, 1, -1]])\n",
        "B_eq = np.array([-1, -3, 9])\n",
        "\n",
        "# Solve for X using A^-1 * B\n",
        "A_inv_eq = np.linalg.inv(A_eq)\n",
        "X = np.dot(A_inv_eq, B_eq)\n",
        "print(\"Solution for the system of equations:\")\n",
        "print(X)\n"
      ],
      "metadata": {
        "colab": {
          "base_uri": "https://localhost:8080/"
        },
        "id": "t1r7ONYBQIRy",
        "outputId": "c5c4ac8c-6170-472f-f6a1-f0ad43c331be"
      },
      "execution_count": 8,
      "outputs": [
        {
          "output_type": "stream",
          "name": "stdout",
          "text": [
            "A * A^-1:\n",
            "[[1.00000000e+00 0.00000000e+00]\n",
            " [1.77635684e-15 1.00000000e+00]]\n",
            "AB:\n",
            "[[23 13]\n",
            " [51 29]]\n",
            "BA:\n",
            "[[36 44]\n",
            " [13 16]]\n",
            "Is AB ≠ BA? True\n",
            "(AB)^T:\n",
            "[[23 51]\n",
            " [13 29]]\n",
            "B^T * A^T:\n",
            "[[23 51]\n",
            " [13 29]]\n",
            "Does (AB)^T = B^T * A^T? True\n",
            "Solution for the system of equations:\n",
            "[ 2.  1. -2.]\n"
          ]
        }
      ]
    },
    {
      "cell_type": "markdown",
      "source": [
        "# **10.2 Experiment: How Fast is Numpy?**"
      ],
      "metadata": {
        "id": "hCYHrHAVPq5J"
      }
    },
    {
      "cell_type": "markdown",
      "source": [
        "**1. Element-wise Addition:**\n",
        "\n",
        "• Using Python Lists, perform element-wise addition of two lists of size 1, 000, 000. Measure and Print the time taken for this operation.\n",
        "\n",
        "• Using Numpy Arrays, Repeat the calculation and measure and print the time taken for this operation."
      ],
      "metadata": {
        "id": "I_La9t2iPwCj"
      }
    },
    {
      "cell_type": "code",
      "source": [
        "import time\n",
        "size = 1_000_000\n",
        "list1 = list(range(size))\n",
        "list2 = list(range(size))\n",
        "\n",
        "start_time = time.time()\n",
        "list_addition = [list1[i] + list2[i] for i in range(size)]\n",
        "python_add_time = time.time() - start_time\n",
        "\n",
        "array1 = np.arange(size)\n",
        "array2 = np.arange(size)\n",
        "\n",
        "start_time = time.time()\n",
        "array_addition = array1 + array2\n",
        "numpy_add_time = time.time() - start_time"
      ],
      "metadata": {
        "id": "R7ArrZWJQJVE"
      },
      "execution_count": 10,
      "outputs": []
    },
    {
      "cell_type": "markdown",
      "source": [
        "**2. Element-wise Multiplication**\n",
        "\n",
        "• Using Python Lists, perform element-wise multiplication of two lists of size 1, 000, 000. Measure and Print the time taken for this operation.\n",
        "\n",
        "• Using Numpy Arrays, Repeat the calculation and measure and print the time taken for this operation."
      ],
      "metadata": {
        "id": "Vs6k27lAP1pZ"
      }
    },
    {
      "cell_type": "code",
      "source": [
        "start_time = time.time()\n",
        "list_multiplication = [list1[i] * list2[i] for i in range(size)]\n",
        "python_mul_time = time.time() - start_time\n",
        "\n",
        "start_time = time.time()\n",
        "array_multiplication = array1 * array2\n",
        "numpy_mul_time = time.time() - start_time"
      ],
      "metadata": {
        "id": "OpS2P87nQJx1"
      },
      "execution_count": 11,
      "outputs": []
    },
    {
      "cell_type": "markdown",
      "source": [
        "**3. Dot Product**\n",
        "\n",
        "• Using Python Lists, compute the dot product of two lists of size 1, 000, 000. Measure and Print the time taken for this operation.\n",
        "\n",
        "• Using Numpy Arrays, Repeat the calculation and measure and print the time taken for this operation."
      ],
      "metadata": {
        "id": "U2EGLgADP8yv"
      }
    },
    {
      "cell_type": "code",
      "source": [
        "start_time = time.time()\n",
        "dot_product_list = sum(list1[i] * list2[i] for i in range(size))\n",
        "python_dot_time = time.time() - start_time\n",
        "\n",
        "start_time = time.time()\n",
        "dot_product_numpy = np.dot(array1, array2)\n",
        "numpy_dot_time = time.time() - start_time"
      ],
      "metadata": {
        "id": "ZBq68YYMQKQZ"
      },
      "execution_count": 12,
      "outputs": []
    },
    {
      "cell_type": "markdown",
      "source": [
        "**4. Matrix Multiplication**\n",
        "\n",
        "• Using Python lists, perform matrix multiplication of two matrices of size 1000x1000. Mea-\n",
        "sure and print the time taken for this operation.\n",
        "\n",
        "• Using NumPy arrays, perform matrix multiplication of two matrices of size 1000x1000.\n",
        "Measure and print the time taken for this operation."
      ],
      "metadata": {
        "id": "3IR-p7euQFMt"
      }
    },
    {
      "cell_type": "code",
      "source": [
        "size_matrix = 1000\n",
        "matrix1_np = np.arange(size_matrix**2).reshape(size_matrix, size_matrix)\n",
        "matrix2_np = np.arange(size_matrix**2).reshape(size_matrix, size_matrix)\n",
        "\n",
        "start_time = time.time()\n",
        "matrix_multiplication_np = np.dot(matrix1_np, matrix2_np)\n",
        "numpy_matrix_time = time.time() - start_time"
      ],
      "metadata": {
        "id": "28f5hGfEQKq0"
      },
      "execution_count": 13,
      "outputs": []
    },
    {
      "cell_type": "code",
      "source": [
        "print(f\"Python Addition Time: {python_add_time:.5f} seconds\")\n",
        "print(f\"NumPy Addition Time: {numpy_add_time:.5f} seconds\")\n",
        "print(f\"Python Multiplication Time: {python_mul_time:.5f} seconds\")\n",
        "print(f\"NumPy Multiplication Time: {numpy_mul_time:.5f} seconds\")\n",
        "print(f\"Python Dot Product Time: {python_dot_time:.5f} seconds\")\n",
        "print(f\"NumPy Dot Product Time: {numpy_dot_time:.5f} seconds\")\n",
        "print(f\"NumPy Matrix Multiplication Time: {numpy_matrix_time:.5f} seconds\")"
      ],
      "metadata": {
        "id": "foPCdfO3TTT5",
        "outputId": "debeb5ca-ec89-4480-8407-143429bdaeb7",
        "colab": {
          "base_uri": "https://localhost:8080/"
        }
      },
      "execution_count": 14,
      "outputs": [
        {
          "output_type": "stream",
          "name": "stdout",
          "text": [
            "Python Addition Time: 0.18066 seconds\n",
            "NumPy Addition Time: 0.00509 seconds\n",
            "Python Multiplication Time: 0.10616 seconds\n",
            "NumPy Multiplication Time: 0.00277 seconds\n",
            "Python Dot Product Time: 0.17289 seconds\n",
            "NumPy Dot Product Time: 0.00216 seconds\n",
            "NumPy Matrix Multiplication Time: 1.74621 seconds\n"
          ]
        }
      ]
    }
  ]
}